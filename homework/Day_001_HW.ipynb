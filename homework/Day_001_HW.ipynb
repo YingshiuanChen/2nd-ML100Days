{
 "cells": [
  {
   "cell_type": "markdown",
   "metadata": {},
   "source": [
    "## 作業1\n",
    "#### 請上 Kaggle, 在 Competitions 或 Dataset 中找一組競賽或資料並寫下：\n",
    "\n",
    "#### 1. 你選的這組資料為何重要\n",
    "\n",
    "#### 2. 資料從何而來 (tips: 譬如提供者是誰、以什麼方式蒐集)\n",
    "\n",
    "#### 3. 蒐集而來的資料型態為何\n",
    "\n",
    "#### 4. 這組資料想解決的問題如何評估\n",
    "\n",
    "### Answer: \n",
    "#### 選擇資料集: KKBox 顧客流失率預測\n",
    "#### 1. 對於企業而言，顧客的流失將導致營收流失，而企業就需耗費成本開發新的用戶來彌補這些流失的營收，因此若能預測即將流失的顧客群，則可以針對這些顧客採取優惠或利用策略吸引用戶留下，進而穩定營收。\n",
    "\n",
    "#### 2. 資料的提供者為KKBox，該公司提供用戶音樂訂閱服務。 \n",
    "####    資料為KKBox收集該公司2015-2017的線上會員基本資料、交易資訊、用戶行為、是否流失等資料。\n",
    "\n",
    "#### 3. 資料以csv格式提供，包含訓練資料和測試資料集。\n",
    "####    自變數包含用戶除了基本資料及交易資訊(付款方式、日期、金額、是否自動延長會員等)之外、也提供用戶使用行為資料，如:用戶每日完整聆聽的樂曲數、聆聽至該曲50%的樂曲數等，綜合以上，自變數的資料型態包含連續數值、次數、日期、及類別。\n",
    "####    另外，要預測的依變數：\"是否流失\"的資料內容為0:未流失/1:流失，為二元變數。\n",
    "\n",
    "#### 4. 預計將預測各個用戶的流失機率，可使用logistic regression 或決策樹來解決二元資料預測的問題。\n",
    "####    公司可針對流失機率高的用戶提供優惠，或進一步利用分群分析高流失機率用戶的特徵或需求，來設計相對應的方案，達到精準行銷的目。\n",
    "\n",
    "\n",
    "\n",
    "## 作業2：\n",
    "\n",
    "#### 想像你經營一個自由載客車隊，你希望能透過數據分析以提升業績，請你思考並描述你如何規劃整體的分析/解決方案：\n",
    "\n",
    "#### 1. 核心問題為何 (tips：如何定義 「提升業績 & 你的假設」)\n",
    "\n",
    "#### 2. 資料從何而來 (tips：哪些資料可能會對你想問的問題產生影響 & 資料如何蒐集)\n",
    "\n",
    "#### 3. 蒐集而來的資料型態為何\n",
    "\n",
    "#### 4. 你要回答的問題，其如何評估 (tips：你的假設如何驗證)\n",
    "\n",
    "### Answer: \n",
    "#### 1. 提升業績可定義為增加總載客數，或增加營收量。\n",
    "####    假設可依據各地點或時段地客戶數調配排班司機，例如:在客戶多的時段排多一點司機，則可以增加載客數，另外，減少閒置的司機或司機的閒置時間\n",
    "\n",
    "#### 2. (1) 司機排班資料\n",
    "####    (2) 司機載客紀錄(起訖地、時間、里程數、交易金額)，可利用車機系統蒐集紀錄\n",
    "####    (3) 客戶叫車紀錄，從電話或叫車APP的紀錄取得 \n",
    "####    (4) 天氣資料(雨天的叫車人數可能較多)，氣象局資料\n",
    "####    (5) 其他:活動事件資訊(大型活動的時段和地點，較多人叫車)，來源:縣市政府或大型活動地點網頁；交通資料(評估不同時段或路段所需的乘車時間)，從縣市政府資料庫取得\n",
    "\n",
    "#### 3. 蒐集的資料為時間序列資料\n",
    "####    資料型態包含:連續數值(里程數、溫度、降雨量)、日期時間、空間座標資料(起訖地)、類別等\n",
    "\n",
    "#### 4. (1) 分析時段、地點、天氣、活動事件與載客數或叫車數的關係，以預測各地點或時段的載客數或叫車數(可控制中一個變數，例如看同一時段的不同地點的客戶數)，也可進一步分析載客數與叫車數的落差(可能在叫車數多時段，由於人力不足，因此載客數小於叫車數)，以作為人力分配參考。\n",
    "#### 　 (2) 或可分析以上變數與交易金額的關係，找出價值較高的用戶出現的地點及時段，在該地點時段增加人力。\n",
    "\n",
    "\n",
    "## 作業3 \n",
    "#### 請寫一個函式用來計算 Mean Square Error\n",
    "$ MSE = \\frac{1}{n}\\sum_{i=1}^{n}{(Y_i - \\hat{Y}_i)^2} $\n",
    "\n",
    "### Hint: [如何取平方](https://googoodesign.gitbooks.io/-ezpython/unit-1.html)"
   ]
  },
  {
   "cell_type": "code",
   "execution_count": 1,
   "metadata": {
    "collapsed": true
   },
   "outputs": [],
   "source": [
    "import numpy as np\n",
    "import matplotlib.pyplot as plt"
   ]
  },
  {
   "cell_type": "code",
   "execution_count": 10,
   "metadata": {
    "collapsed": true
   },
   "outputs": [],
   "source": [
    "def mean_squared_error(y, ypred):\n",
    "    \"\"\"\n",
    "    請完成這個 Function 後往下執行\n",
    "    \"\"\"\n",
    "    MSE = sum((y - ypred) **2) / len(y)\n",
    "    return MSE\n"
   ]
  },
  {
   "cell_type": "code",
   "execution_count": 11,
   "metadata": {
    "collapsed": true
   },
   "outputs": [],
   "source": [
    "def mean_absolute_error(y, yp):\n",
    "    \"\"\"\n",
    "    計算 MAE\n",
    "    Args:\n",
    "        - y: 實際值\n",
    "        - yp: 預測值\n",
    "    Return:\n",
    "        - mae: MAE\n",
    "    \"\"\"\n",
    "    mae = MAE = sum(abs(y - yp)) / len(y)\n",
    "    return mae\n"
   ]
  },
  {
   "cell_type": "code",
   "execution_count": 12,
   "metadata": {},
   "outputs": [
    {
     "data": {
      "image/png": "[encoded data removed]",
      "text/plain": [
       "<matplotlib.figure.Figure at 0x141798b0080>"
      ]
     },
     "metadata": {},
     "output_type": "display_data"
    }
   ],
   "source": [
    "w = 3\n",
    "b = 0.5\n",
    "\n",
    "x_lin = np.linspace(0, 100, 101)\n",
    "\n",
    "y = (x_lin + np.random.randn(101) * 5) * w + b\n",
    "\n",
    "plt.plot(x_lin, y, 'b.', label = 'data points')\n",
    "plt.title(\"Assume we have data points\")\n",
    "plt.legend(loc = 2)\n",
    "plt.show()"
   ]
  },
  {
   "cell_type": "code",
   "execution_count": 13,
   "metadata": {},
   "outputs": [
    {
     "data": {
      "image/png": "[encoded data removed]",
      "text/plain": [
       "<matplotlib.figure.Figure at 0x14179941198>"
      ]
     },
     "metadata": {},
     "output_type": "display_data"
    }
   ],
   "source": [
    "y_hat = x_lin * w + b\n",
    "plt.plot(x_lin, y, 'b.', label = 'data')\n",
    "plt.plot(x_lin, y_hat, 'r-', label = 'prediction')\n",
    "plt.title(\"Assume we have data points (And the prediction)\")\n",
    "plt.legend(loc = 2)\n",
    "plt.show()"
   ]
  },
  {
   "cell_type": "code",
   "execution_count": 14,
   "metadata": {},
   "outputs": [
    {
     "name": "stdout",
     "output_type": "stream",
     "text": [
      "The Mean squared error is 220.026\n",
      "The Mean absolute error is 12.196\n"
     ]
    }
   ],
   "source": [
    "# 執行 Function, 確認有沒有正常執行\n",
    "MSE = mean_squared_error(y, y_hat)\n",
    "MAE = mean_absolute_error(y, y_hat)\n",
    "print(\"The Mean squared error is %.3f\" % (MSE))\n",
    "print(\"The Mean absolute error is %.3f\" % (MAE))"
   ]
  },
  {
   "cell_type": "code",
   "execution_count": null,
   "metadata": {
    "collapsed": true
   },
   "outputs": [],
   "source": []
  }
 ],
 "metadata": {
  "anaconda-cloud": {},
  "kernelspec": {
   "display_name": "Python 3",
   "language": "python",
   "name": "python3"
  },
  "language_info": {
   "codemirror_mode": {
    "name": "ipython",
    "version": 3
   },
   "file_extension": ".py",
   "mimetype": "text/x-python",
   "name": "python",
   "nbconvert_exporter": "python",
   "pygments_lexer": "ipython3",
   "version": "3.6.1"
  }
 },
 "nbformat": 4,
 "nbformat_minor": 1
}
